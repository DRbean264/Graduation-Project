{
 "cells": [
  {
   "cell_type": "code",
   "execution_count": 1,
   "metadata": {},
   "outputs": [
    {
     "name": "stderr",
     "output_type": "stream",
     "text": [
      "D:\\AppDownloads\\anaconda3\\envs\\face_detection\\lib\\site-packages\\outdated\\utils.py:18: OutdatedPackageWarning: The package outdated is out of date. Your version is 0.2.0, the latest is 0.2.1.\n",
      "Set the environment variable OUTDATED_IGNORE=1 to disable these warnings.\n",
      "  **kwargs\n"
     ]
    }
   ],
   "source": [
    "import autoreload\n",
    "\n",
    "from Cache_Signal import *\n",
    "from Network import *\n",
    "%load_ext autoreload\n",
    "%autoreload 2"
   ]
  },
  {
   "cell_type": "markdown",
   "metadata": {},
   "source": [
    "## 信号缓存及滤波"
   ]
  },
  {
   "cell_type": "code",
   "execution_count": 4,
   "metadata": {},
   "outputs": [],
   "source": [
    "video_path = \"./Test_Videos/stable1.mp4\"\n",
    "cache_root_dir = \"./Test_Videos/Cached_Signal\"\n",
    "\n",
    "video_length,fps = get_video_length(video_path)\n",
    "cache_signal_infer([video_path],cache_root_dir,crop_length=video_length)"
   ]
  },
  {
   "cell_type": "code",
   "execution_count": 5,
   "metadata": {},
   "outputs": [
    {
     "name": "stdout",
     "output_type": "stream",
     "text": [
      "Video length: 14.07s   Video fps: 29fps\n"
     ]
    }
   ],
   "source": [
    "print(\"Video length: {:.2f}s   Video fps: {}fps\".format(video_length,fps))"
   ]
  },
  {
   "cell_type": "code",
   "execution_count": 7,
   "metadata": {},
   "outputs": [],
   "source": [
    "filtered_root_dir = \"./Test_Videos/Filtered_Signal\"\n",
    "filter_cached_signal_infer(cache_root_dir,filtered_root_dir,fps)"
   ]
  },
  {
   "cell_type": "code",
   "execution_count": 11,
   "metadata": {},
   "outputs": [],
   "source": [
    "def denormalize_HR(batch_HR):\n",
    "    return batch_HR * 110 + 40"
   ]
  },
  {
   "cell_type": "markdown",
   "metadata": {},
   "source": [
    "## 读取缓存的数据"
   ]
  },
  {
   "cell_type": "code",
   "execution_count": 9,
   "metadata": {},
   "outputs": [
    {
     "name": "stdout",
     "output_type": "stream",
     "text": [
      "(5, 200)\n",
      "(5, 200)\n"
     ]
    },
    {
     "data": {
      "image/png": "[encoded data removed]",
      "text/plain": [
       "<Figure size 720x360 with 1 Axes>"
      ]
     },
     "metadata": {
      "needs_background": "light"
     },
     "output_type": "display_data"
    }
   ],
   "source": [
    "ROI_ids = [8,9,10,11,12]\n",
    "data_raw = []\n",
    "data_filtered = []\n",
    "\n",
    "for i in ROI_ids:\n",
    "    with open(\"./Test_Videos/Cached_Signal/stable1/clip1/channel_G_ROI_{}.txt\".format(i),'r') as f:\n",
    "        data_raw.append([float(l) for l in f.read().split()])\n",
    "data_raw = np.array(data_raw)[:,:200]\n",
    "\n",
    "for i in ROI_ids:\n",
    "    with open(\"./Test_Videos/Filtered_Signal/stable1/clip1/channel_G_ROI_{}.txt\".format(i),'r') as f:\n",
    "        data_filtered.append([float(l) for l in f.read().split()])\n",
    "data_filtered = np.array(data_filtered)[:,:200]\n",
    "\n",
    "print(data_raw.shape)\n",
    "print(data_filtered.shape)\n",
    "show_signal(data_raw[0])"
   ]
  },
  {
   "cell_type": "code",
   "execution_count": 10,
   "metadata": {},
   "outputs": [],
   "source": [
    "HR_test_model = HR_network(input_shape=(5,200))  #  eg.input_shape:batch*5*200\n",
    "HR_test_model.compile(optimizer=tf.keras.optimizers.Adam(0.01),loss='mse',metrics=[\"mae\",\"mape\"])\n",
    "HR_test_model.load_weights('./model_checkpoints/candidate_model/LSTM-ECNU/loss_0.0021_val_loss_0.0027.h5')"
   ]
  },
  {
   "cell_type": "code",
   "execution_count": 12,
   "metadata": {},
   "outputs": [
    {
     "name": "stdout",
     "output_type": "stream",
     "text": [
      "63.87588694691658\n"
     ]
    }
   ],
   "source": [
    "data_filtered = data_filtered.astype(np.float32)\n",
    "\n",
    "y_out = HR_test_model(data_filtered[np.newaxis,...])  #  shape:batch*1\n",
    "HR_guessed = denormalize_HR(np.squeeze(y_out))\n",
    "print(HR_guessed)"
   ]
  },
  {
   "cell_type": "code",
   "execution_count": null,
   "metadata": {},
   "outputs": [],
   "source": []
  }
 ],
 "metadata": {
  "kernelspec": {
   "display_name": "Python [conda env:face_detection] *",
   "language": "python",
   "name": "conda-env-face_detection-py"
  },
  "language_info": {
   "codemirror_mode": {
    "name": "ipython",
    "version": 3
   },
   "file_extension": ".py",
   "mimetype": "text/x-python",
   "name": "python",
   "nbconvert_exporter": "python",
   "pygments_lexer": "ipython3",
   "version": "3.6.12"
  }
 },
 "nbformat": 4,
 "nbformat_minor": 4
}
