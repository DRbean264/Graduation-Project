{
 "cells": [
  {
   "cell_type": "code",
   "execution_count": 1,
   "metadata": {},
   "outputs": [],
   "source": [
    "import os\n",
    "import numpy as np\n",
    "import cv2 as cv\n",
    "from scipy import signal\n",
    "from scipy.signal import butter, lfilter"
   ]
  },
  {
   "cell_type": "code",
   "execution_count": 3,
   "metadata": {},
   "outputs": [],
   "source": [
    "import sys\n",
    "import autoreload\n",
    "from Frames_Alignment import *\n",
    "from ROI_Signal_Visualization import *\n",
    "%load_ext autoreload\n",
    "%autoreload 2"
   ]
  },
  {
   "cell_type": "markdown",
   "metadata": {},
   "source": [
    "## 获取所有视频文件路径，两个数据集VIPL-HR以及BEAN-HR中选择一种即可\n",
    "## VIPL-HR数据集的申请参考[中科院官网](https://vipl.ict.ac.cn/view_database.php?id=15)\n",
    "## BEAN-HR暂时不对外开放下载"
   ]
  },
  {
   "cell_type": "code",
   "execution_count": 7,
   "metadata": {},
   "outputs": [],
   "source": [
    "def get_all_video_path_BEAN(root_dir):\n",
    "    all_video_path = []\n",
    "    for dirpath,_,filenames in os.walk(root_dir):\n",
    "        for file in filenames:\n",
    "            all_video_path.append(os.path.join(dirpath,file))\n",
    "\n",
    "    return all_video_path\n",
    "\n",
    "def get_all_video_path_VIPL(root_dir,scenario=['v1']):\n",
    "    #  测试者分组的路径\n",
    "    people_grouped_path = [os.path.join(root_dir,name) for name in os.listdir(root_dir) if 'zip' not in name]\n",
    "    num_grouped = len(people_grouped_path)\n",
    "\n",
    "    #  单个测试者的路径\n",
    "    person_path = []\n",
    "    for group in people_grouped_path:\n",
    "        person_path.extend([os.path.join(group,name) for name in os.listdir(group)])\n",
    "    num_person = len(person_path)\n",
    "\n",
    "    #  所有场景的路径\n",
    "    scenario_path = []\n",
    "    for person in person_path:\n",
    "        scenario_path.extend([os.path.join(person,name) for name in os.listdir(person)])\n",
    "    \n",
    "    target_scenario_path = [path for path in scenario_path if os.path.basename(path) in scenario]\n",
    "    \n",
    "    video_path = []\n",
    "    for path in target_scenario_path:\n",
    "        video_path.append(os.path.join(os.path.join(path,\"source2\"),\"video.avi\"))\n",
    "    \n",
    "    return video_path\n",
    "\n",
    "#  VIPL-HR数据集\n",
    "# root_dir = \"D:\\BaiduNetdiskDownload\\VIPL-HR\\data\"\n",
    "# all_video_path = get_all_video_path_VIPL(root_dir,scenario=['v1','v3','v4','v5','v6','v7','v8'])\n",
    "\n",
    "#  BEAN-HR数据集\n",
    "root_dir = \"D:\\\\BaiduNetdiskDownload\\\\ECNU-Dataset-AVC1\"\n",
    "all_video_path = get_all_video_path_BEAN(root_dir)"
   ]
  },
  {
   "cell_type": "code",
   "execution_count": 9,
   "metadata": {},
   "outputs": [
    {
     "name": "stdout",
     "output_type": "stream",
     "text": [
      "['D:\\\\BaiduNetdiskDownload\\\\ECNU-Dataset-AVC1\\\\1.MOV', 'D:\\\\BaiduNetdiskDownload\\\\ECNU-Dataset-AVC1\\\\10.MOV', 'D:\\\\BaiduNetdiskDownload\\\\ECNU-Dataset-AVC1\\\\11.MOV', 'D:\\\\BaiduNetdiskDownload\\\\ECNU-Dataset-AVC1\\\\12.MOV', 'D:\\\\BaiduNetdiskDownload\\\\ECNU-Dataset-AVC1\\\\13.MOV', 'D:\\\\BaiduNetdiskDownload\\\\ECNU-Dataset-AVC1\\\\14.MOV', 'D:\\\\BaiduNetdiskDownload\\\\ECNU-Dataset-AVC1\\\\15.MOV', 'D:\\\\BaiduNetdiskDownload\\\\ECNU-Dataset-AVC1\\\\16.MOV', 'D:\\\\BaiduNetdiskDownload\\\\ECNU-Dataset-AVC1\\\\17.MOV', 'D:\\\\BaiduNetdiskDownload\\\\ECNU-Dataset-AVC1\\\\18.MOV']\n"
     ]
    }
   ],
   "source": [
    "print(all_video_path[:10])"
   ]
  },
  {
   "cell_type": "markdown",
   "metadata": {},
   "source": [
    "## 获取视频文件基础信息"
   ]
  },
  {
   "cell_type": "code",
   "execution_count": 19,
   "metadata": {},
   "outputs": [],
   "source": [
    "def get_video_length(video_path):\n",
    "    \"\"\"\n",
    "        给入视频路径，计算视频的长度以及FPS\n",
    "\n",
    "        return:\n",
    "        video_length:视频的长度，单位：s\n",
    "        fps_counter：视频的帧率\n",
    "    \"\"\"\n",
    "    video_capture = cv2.VideoCapture(video_path)\n",
    "\n",
    "    frame_counter = int(video_capture.get(cv2.CAP_PROP_FRAME_COUNT))\n",
    "    fps_counter = video_capture.get(cv2.CAP_PROP_FPS)\n",
    "    video_length = frame_counter/fps_counter\n",
    "\n",
    "    video_capture.release()\n",
    "    \n",
    "    return video_length,fps_counter\n",
    "\n",
    "def size_convert(size):\n",
    "    \"\"\"\n",
    "       文件大小单位换算,输入size为文件字节数\n",
    "    \"\"\"\n",
    "    K, M, G = 1024, 1024 ** 2, 1024 ** 3\n",
    "    if size >= G:\n",
    "        return str(round((size / G), 2)) + ' GB'\n",
    "    elif size >= M:\n",
    "        return str(round((size / M), 2)) + ' MB'\n",
    "    elif size >= K:\n",
    "        return str(round((size / K), 2)) + ' K'\n",
    "    else:\n",
    "        return str(round((size), 3)) + ' B'\n",
    "\n",
    "def get_video_size(video_path):\n",
    "    file_byte = os.path.getsize(video_path)\n",
    "    \n",
    "    return size_convert(file_byte)"
   ]
  },
  {
   "cell_type": "markdown",
   "metadata": {},
   "source": [
    "## 视频分段信息获取，本项目将视频分成等长的片段，方便一起送入神经网络训练"
   ]
  },
  {
   "cell_type": "code",
   "execution_count": 11,
   "metadata": {},
   "outputs": [],
   "source": [
    "def video_crop_info(video_length,fps,crop_length):\n",
    "    \"\"\"\n",
    "        计算视频分割的信息，给出所选片段的开头帧和结尾帧\n",
    "\n",
    "        params:\n",
    "        video_length:视频的长度，单位：s\n",
    "        fps：视频的帧速率，单位：帧每秒\n",
    "        crop_length:每个分割片段的长度，单位：s\n",
    "\n",
    "        return:\n",
    "        start_frame:开始帧位置的列表[start1,start2,...]\n",
    "        stop_frame:结束帧位置的列表[stop1,stop2,...]\n",
    "    \"\"\"\n",
    "    if crop_length != None:\n",
    "        num = int(video_length // crop_length)   #  片段数目\n",
    "        start_frame = [int(np.round((video_length - crop_length * num) * fps / 2 + i * crop_length * fps)) for i in range(num)]\n",
    "        stop_frame = (np.array(start_frame) + 250).astype(np.int32).tolist()\n",
    "    else:\n",
    "        start_frame = [0]\n",
    "        stop_frame = (np.array(start_frame) + fps * video_length).astype(np.int32).tolist()\n",
    "    \n",
    "    return start_frame,stop_frame"
   ]
  },
  {
   "cell_type": "markdown",
   "metadata": {},
   "source": [
    "## 读取ROI像素平均值1D信号，并缓存"
   ]
  },
  {
   "cell_type": "code",
   "execution_count": 12,
   "metadata": {},
   "outputs": [],
   "source": [
    "def yield_frames_of_clipped_video(video_file,batch_size,min_size,start,stop,resize=False):\n",
    "    \"\"\"\n",
    "        从视频文件读取一定数量的帧，存放在一个列表中，元素为np.ndarray\n",
    "\n",
    "        params:\n",
    "        video_file:视频文件路径列表\n",
    "        batch_size:一批的数量\n",
    "        min_size:读入的图像最短边缩放到多长\n",
    "        start:clip开始的帧\n",
    "        stop:clip结束的帧\n",
    "    \"\"\"\n",
    "    video_capture = cv2.VideoCapture(video_file)\n",
    "    frame_idx = 0\n",
    "    batch_idx = 0\n",
    "\n",
    "    while True:\n",
    "        frames = []\n",
    "        while video_capture.isOpened():\n",
    "            while batch_idx < batch_size:\n",
    "                ret, frame = video_capture.read()\n",
    "                #  读到视频结尾的话，退出循环\n",
    "                if not ret:\n",
    "                    video_capture.release()\n",
    "                    break\n",
    "                if frame_idx >= start:\n",
    "                    frame = cv2.cvtColor(frame, cv2.COLOR_BGR2RGB)\n",
    "                    if resize == True:\n",
    "                        scaled_shape = get_scaled_wh(frame.shape[:2],min_size)\n",
    "                        frame = cv2.resize(frame,scaled_shape[::-1],interpolation=cv2.INTER_LINEAR)\n",
    "                    frames.append(frame)\n",
    "\n",
    "                    batch_idx += 1\n",
    "                frame_idx += 1\n",
    "                if frame_idx == stop:\n",
    "                    video_capture.release()\n",
    "                    break \n",
    "            batch_idx = 0\n",
    "            break\n",
    "        yield frames\n",
    "\n",
    "def video2ROI(file,batch_size,cmap,resize,remove_skin,min_size,span,w_density,h_density,ROI_ids,save_root_path,start,stop):\n",
    "    \"\"\"\n",
    "        从视频文件中提取1D信号并保存在文件中的整个pipeline\n",
    "\n",
    "        params:\n",
    "        file:视频文件路径\n",
    "        batch_size:批量处理的帧数目，此电脑显存不大，所以别超过20\n",
    "        cmap:颜色通道\n",
    "        resize:是否缩放图片\n",
    "        min_size:把图片缩放到最短边的边长为min_size\n",
    "        span:高斯滤波消抖的跨度，越大越平滑\n",
    "        w_density:ROI纵向分割的密度\n",
    "        h_density:ROI横向分割的密度\n",
    "        ROI_ids:list，要读取的ROI序号，指标从0开始\n",
    "        start:clip开始的帧\n",
    "        stop:clip结束的帧\n",
    "    \"\"\"\n",
    "    # 帧生成器\n",
    "    frames_gen = yield_frames_of_clipped_video(file,batch_size,min_size,start,stop,resize)\n",
    "    \n",
    "    while True:\n",
    "        frames = next(frames_gen)\n",
    "        #  如果没有帧，则直接结束\n",
    "        if len(frames) == 0:\n",
    "            break\n",
    "        \n",
    "        #  获取帧中的人脸位置及关键点坐标\n",
    "        batch_of_face_locations,batch_of_landmarks,num_chin,num_eye = get_location_landmark(frames,0)\n",
    "        \n",
    "        #  如果在当前clip中有一帧没找到人脸，那么这个clip就不做处理\n",
    "        if num_chin == None and num_eye == None:\n",
    "            return False\n",
    "        \n",
    "        #  关键点滤波\n",
    "        batch_of_filtered_landmarks = landmarks_filter(batch_of_landmarks,span)\n",
    "        frames = np.array(frames)\n",
    "        \n",
    "        #  旋转帧使人脸水平\n",
    "        rotated_frames, eye_centers, angles = rotate_face(frames, batch_of_filtered_landmarks, num_chin, num_eye)\n",
    "        \n",
    "        #  旋转关键点\n",
    "        rotated_landmarks = rotate_landmarks(eye_centers, batch_of_filtered_landmarks, angles)\n",
    "        \n",
    "        #  把人脸剪裁出来\n",
    "        cropped_frames,lefts,tops = crop_face(rotated_frames, eye_centers, rotated_landmarks)\n",
    "        \n",
    "        #  关键点坐标变换\n",
    "        transferred_landmarks = transfer_landmark(rotated_landmarks, lefts, tops)\n",
    "        \n",
    "        #  去除非皮肤区域\n",
    "        if remove_skin:\n",
    "            skin_frames,skin_masks = extract_Skin_YCrCb_Otsu(cropped_frames)\n",
    "        else:\n",
    "            skin_frames = cropped_frames\n",
    "        \n",
    "        #  颜色通道转换/提取\n",
    "        if cmap.lower() == 'green':\n",
    "            skin_frames = RGB2G(skin_frames)\n",
    "        elif cmap.lower() == 'yuv':\n",
    "            skin_frames = RGB2YUV(skin_frames)\n",
    "        elif cmap.lower() == 'rgb':\n",
    "            pass\n",
    "\n",
    "        signal_1D = channel_1D_signal(skin_frames,w_density,h_density,ROI_ids)  #  shape:batch_size*n_ROI*n_channel\n",
    "        \n",
    "        save_signal(save_root_path,signal_1D,ROI_ids,cmap)\n",
    "        \n",
    "        #  如果frames长度不足batch_size，说明视频读完了\n",
    "        if len(frames) != batch_size:\n",
    "            break\n",
    "        \n",
    "    return True\n",
    "\n",
    "def cache_signal_VIPL(video_path,cache_root_dir,crop_length=10):\n",
    "    \"\"\"\n",
    "       遍历视频，缓存视频片段1D信号\n",
    "       \n",
    "       params:\n",
    "       video_path:视频绝对路径列表\n",
    "       cache_root_dir:缓存目录\n",
    "       crop_length:视频片段截取的长度,如果是None，则整个视频都要\n",
    "    \"\"\"\n",
    "    for path in video_path:\n",
    "        person_id,scene_id = path.split(\"\\\\\")[-4],path.split(\"\\\\\")[-3]\n",
    "        person_root_dir = os.path.join(cache_root_dir,person_id)\n",
    "        scene_root_dir = os.path.join(person_root_dir,scene_id)\n",
    "        #  创建目录\n",
    "        if not os.path.exists(person_root_dir):\n",
    "            os.mkdir(person_root_dir)\n",
    "        if not os.path.exists(scene_root_dir):\n",
    "            os.mkdir(scene_root_dir)\n",
    "        \n",
    "        video_length,fps = get_video_length(path)\n",
    "        start_frame,stop_frame = video_crop_info(video_length,fps,crop_length)\n",
    "        \n",
    "        for idx,start,stop in zip(range(1,len(start_frame)+1),start_frame,stop_frame):\n",
    "            if not os.path.exists(scene_root_dir):\n",
    "                os.mkdir(scene_root_dir)\n",
    "            \n",
    "            save_root_path = os.path.join(scene_root_dir,\"clip{}\".format(idx))\n",
    "            if not os.path.exists(save_root_path):\n",
    "                os.mkdir(save_root_path)\n",
    "            \n",
    "            clip_valid = video2ROI(path,batch_size,cmap,resize,remove_skin,min_size,span,w_density,h_density,ROI_ids,save_root_path,start,stop)\n",
    "            \n",
    "            #  如果clip无效，即出现未检测出人脸的帧，则需要把当前clip文件夹删除\n",
    "            if not clip_valid:\n",
    "                for dirpath, dirnames, filenames in os.walk(save_root_path):\n",
    "                    for file in filenames:\n",
    "                        file_abspath = os.path.join(dirpath,file)\n",
    "                        os.remove(file_abspath)\n",
    "                    os.removedirs(dirpath)\n",
    "                print(\"Clip {} of video {} is not considered because of non-face-detected frames.\".format(idx,path))\n",
    "                continue\n",
    "            \n",
    "        print(\"Video {} cached successfully!\".format(path))\n",
    "\n",
    "def cache_signal_ECNU(video_path,cache_root_dir,crop_length=10):\n",
    "    \"\"\"\n",
    "       遍历视频，缓存视频片段1D信号\n",
    "       \n",
    "       params:\n",
    "       video_path:视频绝对路径列表\n",
    "       cache_root_dir:缓存目录\n",
    "       crop_length:视频片段截取的长度,如果是None，则整个视频都要\n",
    "    \"\"\"\n",
    "    for path in video_path:\n",
    "        person_id = os.path.basename(path).split('.')[0]\n",
    "        person_root_dir = os.path.join(cache_root_dir,person_id)\n",
    "        #  创建目录\n",
    "        if not os.path.exists(person_root_dir):\n",
    "            os.mkdir(person_root_dir)\n",
    "        \n",
    "        video_length,fps = get_video_length(path)\n",
    "        start_frame,stop_frame = video_crop_info(video_length,fps,crop_length)\n",
    "        \n",
    "        for idx,start,stop in zip(range(1,len(start_frame)+1),start_frame,stop_frame):\n",
    "            if not os.path.exists(person_root_dir):\n",
    "                os.mkdir(person_root_dir)\n",
    "            \n",
    "            save_root_path = os.path.join(person_root_dir,\"clip{}\".format(idx))\n",
    "            if not os.path.exists(save_root_path):\n",
    "                os.mkdir(save_root_path)\n",
    "            \n",
    "            clip_valid = video2ROI(path,batch_size,cmap,resize,remove_skin,min_size,span,w_density,h_density,ROI_ids,save_root_path,start,stop)\n",
    "            \n",
    "            #  如果clip无效，即出现未检测出人脸的帧，则需要把当前clip文件夹删除\n",
    "            if not clip_valid:\n",
    "                for dirpath, dirnames, filenames in os.walk(save_root_path):\n",
    "                    for file in filenames:\n",
    "                        file_abspath = os.path.join(dirpath,file)\n",
    "                        os.remove(file_abspath)\n",
    "                    os.removedirs(dirpath)\n",
    "                print(\"Clip {} of video {} is not considered because of non-face-detected frames.\".format(idx,path))\n",
    "                continue\n",
    "            \n",
    "        print(\"Video {} cached successfully!\".format(path))"
   ]
  },
  {
   "cell_type": "markdown",
   "metadata": {},
   "source": [
    "### 先设置必须的参量"
   ]
  },
  {
   "cell_type": "code",
   "execution_count": 35,
   "metadata": {},
   "outputs": [],
   "source": [
    "batch_size = 10\n",
    "cmap = 'RGB'\n",
    "resize = False\n",
    "remove_skin = True\n",
    "min_size = 1000\n",
    "span = 10\n",
    "w_density = 7\n",
    "h_density = 4\n",
    "ROI_ids = list(range(w_density*h_density))\n",
    "root_dir = \"D:\\BaiduNetdiskDownload\\ECNU-Dataset-WMV3\"\n",
    "cache_root_dir = \"./cache/origin/ECNU-Dataset-WMV3-cache-total-span{}\".format(span)\n",
    "cached_already = False\n",
    "\n",
    "if not os.path.exists(cache_root_dir):\n",
    "    os.makedirs(cache_root_dir)\n",
    "else:\n",
    "    cached_already = True"
   ]
  },
  {
   "cell_type": "code",
   "execution_count": 13,
   "metadata": {},
   "outputs": [
    {
     "name": "stdout",
     "output_type": "stream",
     "text": [
      "59.82 29.973253092611166\n"
     ]
    }
   ],
   "source": [
    "length,fps = get_video_length(all_video_path[0])\n",
    "print(length,fps)"
   ]
  },
  {
   "cell_type": "markdown",
   "metadata": {},
   "source": [
    "### 视频平均大小"
   ]
  },
  {
   "cell_type": "code",
   "execution_count": 27,
   "metadata": {},
   "outputs": [
    {
     "name": "stdout",
     "output_type": "stream",
     "text": [
      "Average size of video is 147.82 MB.\n"
     ]
    }
   ],
   "source": [
    "files_size_str = []\n",
    "for path in all_video_path:\n",
    "    files_size_str.append(get_video_size(path))\n",
    "\n",
    "files_size_num = [float(size.split(\" \")[0]) for size in files_size_str]\n",
    "print(\"Average size of video is {:.2f} {}.\".format(np.mean(files_size_num),files_size_str[0].split(' ')[1]))"
   ]
  },
  {
   "cell_type": "markdown",
   "metadata": {},
   "source": [
    "### 开始缓存提取出的像素平均值信号"
   ]
  },
  {
   "cell_type": "code",
   "execution_count": 37,
   "metadata": {},
   "outputs": [
    {
     "name": "stdout",
     "output_type": "stream",
     "text": [
      "Already cached.\n"
     ]
    }
   ],
   "source": [
    "if not cached_already:\n",
    "#     cache_signal_VIPL(all_video_path,cache_root_dir,crop_length=None)\n",
    "    cache_signal_ECNU(all_video_path,cache_root_dir,crop_length=None)\n",
    "else:\n",
    "    print(\"Already cached.\")"
   ]
  },
  {
   "cell_type": "markdown",
   "metadata": {},
   "source": [
    "## 信号带通滤波并缓存"
   ]
  },
  {
   "cell_type": "code",
   "execution_count": 54,
   "metadata": {},
   "outputs": [],
   "source": [
    "def filter_cached_signal_VIPL(cache_root_dir,filtered_root_dir,fps,scene='v1',mode='train'):\n",
    "    \"\"\"\n",
    "       把缓存好的文件中的数据进行带通滤波,并缓存到新的路径下\n",
    "       \n",
    "       params:\n",
    "       cache_root_dir：缓存好的1D信号的根目录\n",
    "       filtered_root_dir：保存滤波后信号的根目录\n",
    "       scene：场景选择\n",
    "       mode：指定训练还是推理模式,train/inference\n",
    "    \"\"\"\n",
    "    \n",
    "    for dirpath, dirnames, filenames in os.walk(cache_root_dir):\n",
    "        if mode == \"train\":\n",
    "            if dirpath.split(\"\\\\\")[-2] == scene:\n",
    "                for file in filenames:\n",
    "                    signal_file = os.path.join(dirpath, file)\n",
    "                    \n",
    "                    save_file_path = os.path.join(filtered_root_dir,signal_file[signal_file.find('\\\\p') + 1:])\n",
    "                    if not os.path.exists(os.path.dirname(save_file_path)):\n",
    "                        os.makedirs(os.path.dirname(save_file_path))\n",
    "                    elif os.path.exists(save_file_path):\n",
    "                        continue\n",
    "                    \n",
    "                    with open(signal_file,'r') as f:\n",
    "                        data = [float(l) for l in f.read().split()]\n",
    "\n",
    "                    #  [0.67,4]/25(fps) = [0.027,0.16]\n",
    "                    frequency_range = (np.array([0.67,4]) / fps).tolist()\n",
    "                    b_band, a_band = signal.butter(8, frequency_range, 'bandpass')   #配置滤波器, 8表示滤波器的阶数\n",
    "                    filtered_data = signal.filtfilt(b_band, a_band, data, axis=-1)  #data为要过滤的信号\n",
    "\n",
    "                    with open(save_file_path,'w') as f:\n",
    "                        save_data = [str(d) for d in filtered_data]\n",
    "                        f.write(' '.join(save_data))\n",
    "        elif mode == \"inference\":\n",
    "            for file in filenames:\n",
    "                signal_file = os.path.join(dirpath, file)\n",
    "\n",
    "                save_file_path = os.path.join(filtered_root_dir,\"\\\\\".join(signal_file.split(\"\\\\\")[-3:]))\n",
    "                if not os.path.exists(os.path.dirname(save_file_path)):\n",
    "                    os.makedirs(os.path.dirname(save_file_path))\n",
    "                elif os.path.exists(save_file_path):\n",
    "                    continue\n",
    "                \n",
    "                with open(signal_file,'r') as f:\n",
    "                    data = [float(l) for l in f.read().split()]\n",
    "\n",
    "                #  [0.67,4]/25(fps) = [0.027,0.16]\n",
    "                frequency_range = (np.array([0.67,4]) / fps).tolist()\n",
    "                b_band, a_band = signal.butter(8, frequency_range, 'bandpass')   #配置滤波器, 8表示滤波器的阶数\n",
    "                filtered_data = signal.filtfilt(b_band, a_band, data, axis=-1)  #data为要过滤的信号\n",
    "\n",
    "                with open(save_file_path,'w') as f:\n",
    "                    save_data = [str(d) for d in filtered_data]\n",
    "                    f.write(' '.join(save_data))\n",
    "                        \n",
    "def filter_cached_signal_ECNU(cache_root_dir,filtered_root_dir,fps):\n",
    "    \"\"\"\n",
    "       把缓存好的文件中的数据进行带通滤波,并缓存到新的路径下\n",
    "       cache_root_dir：缓存好的1D信号的根目录\n",
    "       filtered_root_dir：保存滤波后信号的根目录\n",
    "    \"\"\"\n",
    "    for dirpath, dirnames, filenames in os.walk(cache_root_dir):\n",
    "        for file in filenames:\n",
    "            signal_file = os.path.join(dirpath, file)\n",
    "            \n",
    "            save_file_path = os.path.join(filtered_root_dir,\"\\\\\".join(signal_file.split(\"\\\\\")[-3:]))\n",
    "            if not os.path.exists(os.path.dirname(save_file_path)):\n",
    "                os.makedirs(os.path.dirname(save_file_path))\n",
    "            elif os.path.exists(save_file_path):\n",
    "                continue\n",
    "            \n",
    "            with open(signal_file,'r') as f:\n",
    "                data = [float(l) for l in f.read().split()]\n",
    "\n",
    "            #  [0.67,4] * 2 / 25(fps) = [0.054,0.32]\n",
    "            frequency_range = (np.array([0.67,4]) * 2 / fps).tolist()\n",
    "            b_band, a_band = signal.butter(8, frequency_range, 'bandpass')   #配置滤波器, 8表示滤波器的阶数\n",
    "            filtered_data = signal.filtfilt(b_band, a_band, data, axis=-1)   #data为要过滤的信号\n",
    "            \n",
    "            with open(save_file_path,'w') as f:\n",
    "                save_data = [str(d) for d in filtered_data]\n",
    "                f.write(' '.join(save_data))\n",
    "                    \n",
    "def show_signal(data,title=None):\n",
    "    \"\"\"\n",
    "      可视化信号\n",
    "    \"\"\"\n",
    "    plt.figure(figsize=(10, 5))\n",
    "    \n",
    "    plt.xlabel(\"Time/s\")\n",
    "    plt.title(title)\n",
    "\n",
    "    #  设置坐标轴刻度及范围\n",
    "    xticks = np.round(np.arange(0,len(data)/fps+0.001,len(data)/fps/10),2)\n",
    "    plt.xticks(xticks)\n",
    "    plt.xlim([0,len(data)/fps])\n",
    "\n",
    "    yticks = np.arange(min(data)-5,max(data)+5,(max(data)-min(data)+10)/10)\n",
    "    plt.yticks(yticks)\n",
    "    plt.ylim([min(data)-5,max(data)+5])\n",
    "\n",
    "    x = np.round(np.arange(0,len(data),1) / fps,2)\n",
    "    plt.plot(x,data,\"g-\")\n",
    "    plt.grid(True)"
   ]
  },
  {
   "cell_type": "code",
   "execution_count": 55,
   "metadata": {},
   "outputs": [],
   "source": [
    "filtered_root_dir = \"./cache/filtered/ECNU-Dataset-WMV3-cache-filtered-span{}\".format(span)\n",
    "\n",
    "filter_cached_signal_ECNU(cache_root_dir,filtered_root_dir,fps)"
   ]
  },
  {
   "cell_type": "markdown",
   "metadata": {},
   "source": [
    "## 可视化滤波后的信号"
   ]
  },
  {
   "cell_type": "code",
   "execution_count": 41,
   "metadata": {},
   "outputs": [
    {
     "data": {
      "image/png": "[encoded data removed]",
      "text/plain": [
       "<Figure size 720x360 with 1 Axes>"
      ]
     },
     "metadata": {
      "needs_background": "light"
     },
     "output_type": "display_data"
    }
   ],
   "source": [
    "with open(\"./cache/filtered/ECNU-Dataset-WMV3-cache-filtered-span10\\\\1\\\\clip1\\\\channel_G_ROI_8.txt\",'r') as f:\n",
    "    data_WMV3 = [float(l) for l in f.read().split()]\n",
    "\n",
    "show_signal(data_WMV3[-250:],title='WMV3 filtered signal')"
   ]
  },
  {
   "cell_type": "code",
   "execution_count": null,
   "metadata": {},
   "outputs": [],
   "source": []
  }
 ],
 "metadata": {
  "kernelspec": {
   "display_name": "Python [conda env:face_detection] *",
   "language": "python",
   "name": "conda-env-face_detection-py"
  },
  "language_info": {
   "codemirror_mode": {
    "name": "ipython",
    "version": 3
   },
   "file_extension": ".py",
   "mimetype": "text/x-python",
   "name": "python",
   "nbconvert_exporter": "python",
   "pygments_lexer": "ipython3",
   "version": "3.6.12"
  }
 },
 "nbformat": 4,
 "nbformat_minor": 4
}
