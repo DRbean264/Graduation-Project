{
 "cells": [
  {
   "cell_type": "code",
   "execution_count": 1,
   "metadata": {},
   "outputs": [],
   "source": [
    "import cv2\n",
    "import os\n",
    "import numpy as np"
   ]
  },
  {
   "cell_type": "markdown",
   "metadata": {},
   "source": [
    "### 四字码转换"
   ]
  },
  {
   "cell_type": "code",
   "execution_count": 4,
   "metadata": {},
   "outputs": [],
   "source": [
    "def codec_to_string(codec):\n",
    "    codec_bin = str(bin(int(codec)))[2:]\n",
    "    codec_bin = '0' * (8 - len(codec_bin) % 8) + codec_bin\n",
    "\n",
    "    codec_ch = []\n",
    "    for i in range(int(len(codec_bin)/8)):\n",
    "        codec_ch.append(chr(int(codec_bin[i * 8:(i + 1) * 8],2)))\n",
    "    codec_ch.reverse()\n",
    "\n",
    "    return \"\".join(codec_ch)\n",
    "\n",
    "def decode_fourcc(cc):\n",
    "    return \"\".join([chr((int(cc) >> 8 * i) & 0xFF) for i in range(4)])"
   ]
  },
  {
   "cell_type": "markdown",
   "metadata": {},
   "source": [
    "### 视频编码格式转换"
   ]
  },
  {
   "cell_type": "code",
   "execution_count": 2,
   "metadata": {},
   "outputs": [],
   "source": [
    "# 存放压缩后视频的路径\n",
    "compress_video_root_path = \"D:\\\\BaiduNetdiskDownload\\\\ECNU-Dataset-AVC1\"\n",
    "\n",
    "for i in range(70):\n",
    "    video_path = \"D:\\\\BaiduNetdiskDownload\\\\ECNU-Dataset\\\\{}.mov\".format(i)\n",
    "    compress_video_path = os.path.join(compress_video_root_path,'{}.mp4'.format(video_path.split(\"\\\\\")[-1].split('.')[0]))\n",
    "    try:\n",
    "        assert os.path.exists(video_path)\n",
    "    except:\n",
    "        continue\n",
    "    \n",
    "    if os.path.exists(compress_video_path):\n",
    "        continue\n",
    "    \n",
    "    #  获得视频的格式\n",
    "    videoCapture = cv2.VideoCapture(video_path)\n",
    "\n",
    "    #  获得码率及尺寸\n",
    "#     fps = videoCapture.get(cv2.CAP_PROP_FPS)\n",
    "#     size = (int(videoCapture.get(cv2.CAP_PROP_FRAME_WIDTH)),   \n",
    "#             int(videoCapture.get(cv2.CAP_PROP_FRAME_HEIGHT)))  \n",
    "#     codec =  codec_to_string(videoCapture.get(cv2.CAP_PROP_FOURCC))\n",
    "\n",
    "#     print(fps)\n",
    "#     print(size)\n",
    "#     print(codec)\n",
    "\n",
    "    #指定写视频的格式, I420-avi, MJPG-mp4\n",
    "    fourcc = cv2.VideoWriter_fourcc(*'AVC1')\n",
    "    videoWriter = cv2.VideoWriter(compress_video_path, fourcc, fps, size)  \n",
    "\n",
    "    #读帧\n",
    "    success, frame = videoCapture.read()  \n",
    "\n",
    "    while success:\n",
    "        videoWriter.write(frame) #写视频帧\n",
    "        success, frame = videoCapture.read() #获取下一帧\n",
    "\n",
    "    videoCapture.release()\n",
    "    videoWriter.release()\n",
    "    cv2.destroyAllWindows()\n",
    "    \n",
    "    print(\"Video {} is converted successfully.\".format(video_path.split(\"\\\\\")[-1]))"
   ]
  },
  {
   "cell_type": "markdown",
   "metadata": {},
   "source": [
    "### 检验转换后视频的信息"
   ]
  },
  {
   "cell_type": "code",
   "execution_count": 5,
   "metadata": {},
   "outputs": [
    {
     "name": "stdout",
     "output_type": "stream",
     "text": [
      "29.973253092611166\n",
      "(1080, 1920)\n",
      "avc1\n"
     ]
    }
   ],
   "source": [
    "video_path = \"D:\\\\BaiduNetdiskDownload\\\\ECNU-Dataset-AVC1\\\\1.mov\"\n",
    "\n",
    "#  获得视频的格式\n",
    "videoCapture = cv2.VideoCapture(video_path)\n",
    "\n",
    "#  获得码率及尺寸\n",
    "fps = videoCapture.get(cv2.CAP_PROP_FPS)\n",
    "size = (int(videoCapture.get(cv2.CAP_PROP_FRAME_WIDTH)),   \n",
    "        int(videoCapture.get(cv2.CAP_PROP_FRAME_HEIGHT)))  \n",
    "codec = codec_to_string(videoCapture.get(cv2.CAP_PROP_FOURCC))\n",
    "\n",
    "videoCapture.release()\n",
    "\n",
    "print(fps)\n",
    "print(size)\n",
    "print(codec)"
   ]
  },
  {
   "cell_type": "markdown",
   "metadata": {},
   "source": [
    "### 转换后视频平均大小"
   ]
  },
  {
   "cell_type": "code",
   "execution_count": 6,
   "metadata": {},
   "outputs": [
    {
     "name": "stdout",
     "output_type": "stream",
     "text": [
      "D:\\BaiduNetdiskDownload\\ECNU-Dataset-AVC1\\1.MOV\n",
      "147.81797101449277\n"
     ]
    }
   ],
   "source": [
    "def sizeConvert(size):  # 文件大小单位换算\n",
    "    K, M, G = 1024, 1024 ** 2, 1024 ** 3\n",
    "    if size >= G:\n",
    "        return str(round((size / G), 2)) + ' G Bytes'\n",
    "\n",
    "    elif size >= M:\n",
    "        return str(round((size / M), 2)) + ' M Bytes'\n",
    "\n",
    "    elif size >= K:\n",
    "        return str(round((size / K), 2)) + ' K Bytes'\n",
    "\n",
    "    else:\n",
    "        return str(round((size), 3)) + ' Bytes'\n",
    "\n",
    "def get_video_size(video_path):\n",
    "    file_byte = os.path.getsize(video_path)\n",
    "    \n",
    "    return sizeConvert(file_byte)\n",
    "\n",
    "root_dir = \"D:\\BaiduNetdiskDownload\\ECNU-Dataset-AVC1\"\n",
    "\n",
    "all_video_path = []\n",
    "for dirpath,_,filenames in os.walk(root_dir):\n",
    "    for file in filenames:\n",
    "        all_video_path.append(os.path.join(dirpath,file))\n",
    "\n",
    "print(all_video_path[0])\n",
    "\n",
    "files_size_str = []\n",
    "for path in all_video_path:\n",
    "    files_size_str.append(get_video_size(path))\n",
    "\n",
    "files_size_num = [float(size.split(\" \")[0]) for size in files_size_str]\n",
    "print(np.mean(files_size_num))"
   ]
  },
  {
   "cell_type": "code",
   "execution_count": null,
   "metadata": {},
   "outputs": [],
   "source": []
  }
 ],
 "metadata": {
  "kernelspec": {
   "display_name": "Python [conda env:face_detection] *",
   "language": "python",
   "name": "conda-env-face_detection-py"
  },
  "language_info": {
   "codemirror_mode": {
    "name": "ipython",
    "version": 3
   },
   "file_extension": ".py",
   "mimetype": "text/x-python",
   "name": "python",
   "nbconvert_exporter": "python",
   "pygments_lexer": "ipython3",
   "version": "3.6.12"
  }
 },
 "nbformat": 4,
 "nbformat_minor": 4
}
